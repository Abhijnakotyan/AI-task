{
  "cells": [
    {
      "cell_type": "markdown",
      "metadata": {
        "id": "view-in-github",
        "colab_type": "text"
      },
      "source": [
        "<a href=\"https://colab.research.google.com/github/Abhijnakotyan/AI-task/blob/main/rulebased_chatbot.ipynb\" target=\"_parent\"><img src=\"https://colab.research.google.com/assets/colab-badge.svg\" alt=\"Open In Colab\"/></a>"
      ]
    },
    {
      "cell_type": "code",
      "execution_count": 18,
      "metadata": {
        "id": "AlUW7D5zaKj0"
      },
      "outputs": [],
      "source": [
        "import re\n",
        "import random"
      ]
    },
    {
      "cell_type": "code",
      "execution_count": null,
      "metadata": {
        "id": "IhTpKlKkbDYR"
      },
      "outputs": [],
      "source": [
        "class Rulebot:\n",
        "  #negative responses\n",
        "  negative_responses=(\"no\",\"nah\",\"nope\",\"not a chance\",\"sorry\",\"i can't\")\n",
        "  #exit conversation\n",
        "  exit_command=(\"exit\",\"quit\",\"stop\",\"bye\",\"goodbye\",\"see you\")\n",
        "  #random starting question\n",
        "  rand_que=(\"How can i help you\",\n",
        "            \"why are u here\",\"are u a human ?\",\n",
        "            \"can you tell about yourself\",\n",
        "            \"how have you been\",\n",
        "            \"how's life going\",\n",
        "            \"is there anything i can help you with\")\n",
        "  def __init__(self):\n",
        "    self.alienbabble={'describe_life':r'.*\\s*life.*',\n",
        "                      'answer_why_intent':r'.*\\s*why.',\n",
        "                      'about_world':r'.*\\s*world.'}\n",
        "\n",
        "  def greet(self):\n",
        "    self.name=input('What is your name')\n",
        "    will_help=input(f\"Hi {self.name},I am Rule-bot.How can i help you with\\n\")\n",
        "    if will_help in self.negative_responses:\n",
        "        print(\"sorry,how can i help you\")\n",
        "        return\n",
        "    self.chat()\n",
        "\n",
        "  def make_exit(self,reply):\n",
        "    if reply in self.exit_command:\n",
        "      print(\"Okay,Have a nice day\")\n",
        "      return True\n",
        "    return False\n",
        "\n",
        "  def chat(self):\n",
        "    reply=input(random.choice(self.rand_que)).lower()\n",
        "    while not self.make_exit(reply):\n",
        "      reply=input(self.match_reply(reply)).lower()\n",
        "\n",
        "  def match_reply(self,reply):\n",
        "      for key,value in self.alienbabble.items():\n",
        "        intent=key\n",
        "        regex_pattern=value\n",
        "        found_match=re.match(regex_pattern,reply)\n",
        "        if found_match and intent == 'describe_life':\n",
        "          return self.describe_life()\n",
        "        elif found_match and intent == 'answer_why_intent':\n",
        "          return self.answer_why_intent()\n",
        "        elif found_match and intent == 'about_world':\n",
        "          return self.about_world()\n",
        "      if not found_match:\n",
        "        return self.no_match_intent()\n",
        "\n",
        "  def describe_life(self):\n",
        "    responses=(\"The greatest glory in living lies not in never falling, but in rising every time we fall.\\n\",\n",
        "               \"The way to get started is to quit talking and begin doing\\n\",\n",
        "               \"The future belongs to those who believe in the beauty of their dreams\\n\")\n",
        "    return random.choice(responses)\n",
        "\n",
        "  def answer_why_intent(self):\n",
        "    responses=(\"Hello world\\n\",\n",
        "               \"The sky is blue\\n\",\n",
        "               \"I love programming\\n\",\n",
        "               \"Today is a good day\\n\",\n",
        "               \"Cats are adorable\\n\",\n",
        "               \"Let's go hiking\\n\",\n",
        "               \"Books are fascinating\\n\",\n",
        "               \"Music soothes the soul\\n\",\n",
        "               \"Coffee is amazing\\n\",\n",
        "               \"Life is an adventure\\n\" )\n",
        "    return random.choice(responses)\n",
        "\n",
        "  def about_world(self):\n",
        "    responses=(\"World is vast\\n\",\n",
        "           \"Explore the world\\n\",\n",
        "           \"The world is round\\n\",\n",
        "           \"Travel the world\\n\",\n",
        "           \"World is beautiful\\n\",\n",
        "           \"World of wonders\\n\",\n",
        "           \"Discover the world\\n\",\n",
        "           \"World is diverse\\n\",\n",
        "           \"A world of possibilities\\n\",\n",
        "           \"World is ever-changing\\n\")\n",
        "    return random.choice(responses)\n",
        "\n",
        "  def no_match_intent(self):\n",
        "    responses=(\"can you elaborate it\",\n",
        "               \"Tell me more\",\n",
        "               \"why do you say that\")\n",
        "    return random.choice(responses)\n",
        "\n",
        "cbot=Rulebot()\n",
        "cbot.greet()\n"
      ]
    },
    {
      "cell_type": "code",
      "execution_count": null,
      "metadata": {
        "id": "Zq9TkSnbeeKj"
      },
      "outputs": [],
      "source": []
    }
  ],
  "metadata": {
    "colab": {
      "provenance": [],
      "authorship_tag": "ABX9TyPMs8CeSgwiE7IzIljtptmm",
      "include_colab_link": true
    },
    "kernelspec": {
      "display_name": "Python 3",
      "name": "python3"
    },
    "language_info": {
      "name": "python"
    }
  },
  "nbformat": 4,
  "nbformat_minor": 0
}